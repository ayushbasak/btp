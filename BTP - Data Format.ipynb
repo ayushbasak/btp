{
 "cells": [
  {
   "cell_type": "markdown",
   "id": "e48012a8",
   "metadata": {},
   "source": [
    "# Dataset\n",
    "## 5G Mimo Beam Selection"
   ]
  },
  {
   "cell_type": "markdown",
   "id": "3e7a0d3c",
   "metadata": {},
   "source": [
    "#### Necessary imports"
   ]
  },
  {
   "cell_type": "code",
   "execution_count": null,
   "id": "308e0b1e",
   "metadata": {},
   "outputs": [],
   "source": [
    "import numpy as np\n",
    "import matplotlib\n",
    "import matplotlib.pyplot as plt\n",
    "import seaborn as sns\n",
    "from PIL import Image\n",
    "import sklearn"
   ]
  },
  {
   "cell_type": "markdown",
   "id": "b4fc89ba",
   "metadata": {},
   "source": [
    "#### Loading Classification Dataset"
   ]
  },
  {
   "cell_type": "code",
   "execution_count": 2,
   "id": "c31c3cda",
   "metadata": {},
   "outputs": [
    {
     "data": {
      "text/plain": [
       "['position_matrix_array', 'best_ray_array']"
      ]
     },
     "execution_count": 2,
     "metadata": {},
     "output_type": "execute_result"
    }
   ],
   "source": [
    "train_set_classification = np.load('all_train_classification.npz')\n",
    "train_set_classification.files"
   ]
  },
  {
   "cell_type": "code",
   "execution_count": 3,
   "id": "5f839cba",
   "metadata": {},
   "outputs": [
    {
     "data": {
      "text/plain": [
       "['position_matrix_array', 'best_ray_array']"
      ]
     },
     "execution_count": 3,
     "metadata": {},
     "output_type": "execute_result"
    }
   ],
   "source": [
    "test_set_classification = np.load('all_test_classification.npz')\n",
    "test_set_classification.files"
   ]
  },
  {
   "cell_type": "code",
   "execution_count": 51,
   "id": "6c75c7fc",
   "metadata": {},
   "outputs": [],
   "source": [
    "train_class_position_matrix = train_set_classification['position_matrix_array']\n",
    "train_class_best_ray = train_set_classification['best_ray_array'] \n",
    "\n",
    "test_class_position_matrix = test_set_classification['position_matrix_array']\n",
    "test_class_best_ray = test_set_classification['best_ray_array'] "
   ]
  },
  {
   "cell_type": "markdown",
   "id": "5c7a9aa3",
   "metadata": {},
   "source": [
    "### Training Set\n",
    "\n",
    "### Position Matrix Array\n",
    "27k+ datapoints: each shaped 23 X 250\n",
    "\n",
    "### Best Ray Array\n",
    "27k+ datapoints: each shaped 2 X 1"
   ]
  },
  {
   "cell_type": "code",
   "execution_count": 52,
   "id": "5cf4b75b",
   "metadata": {},
   "outputs": [
    {
     "name": "stdout",
     "output_type": "stream",
     "text": [
      "Position Matrix Array Shape:  (27900, 23, 250)\n",
      "Best Ray Array Shape:  (27900, 2)\n"
     ]
    }
   ],
   "source": [
    "print('Position Matrix Array Shape: ', train_class_position_matrix.shape)\n",
    "print('Best Ray Array Shape: ', train_class_best_ray.shape)"
   ]
  },
  {
   "cell_type": "markdown",
   "id": "cefc490e",
   "metadata": {},
   "source": [
    "### Testing set\n",
    "\n",
    "### Position Matrix Array\n",
    "13k+ datapoints: each shaped 23 X 250\n",
    "### Best Ray Array\n",
    "13k+ datapoints: each shaped 2 X 1"
   ]
  },
  {
   "cell_type": "code",
   "execution_count": 53,
   "id": "e6d95a95",
   "metadata": {},
   "outputs": [
    {
     "name": "stdout",
     "output_type": "stream",
     "text": [
      "Position Matrix Array Shape:  (13123, 23, 250)\n",
      "Best Ray Array Shape:  (13123, 2)\n"
     ]
    }
   ],
   "source": [
    "print('Position Matrix Array Shape: ', test_class_position_matrix.shape)\n",
    "print('Best Ray Array Shape: ', test_class_best_ray.shape)"
   ]
  },
  {
   "cell_type": "code",
   "execution_count": 54,
   "id": "3bff06bc",
   "metadata": {},
   "outputs": [],
   "source": [
    "for i in range(500):\n",
    "    save_path = 'images/img' + str(i) + '.png'\n",
    "    matplotlib.image.imsave(save_path, train_class_position_matrix[i])\n",
    "    \n",
    "## Convert above images to a video file using FFMPEG\n",
    "## ffmpeg -i img%01d.png -c:v libx264 -vf fps=25 -vf \"pad=ceil(iw/2)*2:ceil(ih/2)*2\" -pix_fmt yuv420p out.mp4"
   ]
  },
  {
   "cell_type": "markdown",
   "id": "68b5aa32",
   "metadata": {},
   "source": [
    "### Position Ray Array"
   ]
  },
  {
   "cell_type": "code",
   "execution_count": 55,
   "id": "084fa514",
   "metadata": {},
   "outputs": [
    {
     "data": {
      "text/plain": [
       "<matplotlib.image.AxesImage at 0x208d4cb49a0>"
      ]
     },
     "execution_count": 55,
     "metadata": {},
     "output_type": "execute_result"
    },
    {
     "data": {
      "image/png": "[encoded data removed]",
      "text/plain": [
       "<Figure size 432x288 with 1 Axes>"
      ]
     },
     "metadata": {
      "needs_background": "light"
     },
     "output_type": "display_data"
    }
   ],
   "source": [
    "plt.imshow(train_class_position_matrix[5], cmap=plt.cm.inferno)"
   ]
  },
  {
   "cell_type": "markdown",
   "id": "6787bd7e",
   "metadata": {},
   "source": [
    "each pixel of Position Matrix array contains either of 6 values:  \n",
    "[-4, -3, -2, -1, 0, 2]\n",
    "\n",
    "__0__: Represents blank space [roads, space between vehicles]  \n",
    "__Negative Values:__ Other Vehicles  \n",
    "__2:__ Reciever"
   ]
  },
  {
   "cell_type": "code",
   "execution_count": 56,
   "id": "048a1fd6",
   "metadata": {},
   "outputs": [
    {
     "data": {
      "text/plain": [
       "array([-4, -3, -1,  0,  2], dtype=int8)"
      ]
     },
     "execution_count": 56,
     "metadata": {},
     "output_type": "execute_result"
    }
   ],
   "source": [
    "np.unique(train_class_position_matrix[:100])"
   ]
  },
  {
   "cell_type": "markdown",
   "id": "a9e965da",
   "metadata": {},
   "source": [
    "### Best Ray Ray"
   ]
  },
  {
   "cell_type": "code",
   "execution_count": 57,
   "id": "27a49bd4",
   "metadata": {},
   "outputs": [
    {
     "name": "stdout",
     "output_type": "stream",
     "text": [
      "[ 2.  3.  4.  5.  6.  7.  8.  9. 10. 11. 12. 13. 14.]\n"
     ]
    },
    {
     "data": {
      "text/plain": [
       "<matplotlib.image.AxesImage at 0x208e3cfa800>"
      ]
     },
     "execution_count": 57,
     "metadata": {},
     "output_type": "execute_result"
    },
    {
     "data": {
      "image/png": "[encoded data removed]",
      "text/plain": [
       "<Figure size 432x288 with 1 Axes>"
      ]
     },
     "metadata": {
      "needs_background": "light"
     },
     "output_type": "display_data"
    }
   ],
   "source": [
    "print(np.unique(train_best_ray))\n",
    "plt.imshow(train_class_best_ray[np.random.choice(train_class_best_ray.shape[0], size=5,replace=False)],\n",
    "           cmap=plt.cm.inferno)"
   ]
  },
  {
   "cell_type": "markdown",
   "id": "cc46b635",
   "metadata": {},
   "source": [
    "#### Loading Regression Dataset"
   ]
  },
  {
   "cell_type": "code",
   "execution_count": 58,
   "id": "52aebd84",
   "metadata": {},
   "outputs": [
    {
     "data": {
      "text/plain": [
       "['position_matrix_array', 'best_ray_array']"
      ]
     },
     "execution_count": 58,
     "metadata": {},
     "output_type": "execute_result"
    }
   ],
   "source": [
    "train_set_regression = np.load('all_train_regression.npz')\n",
    "train_set_regression.files"
   ]
  },
  {
   "cell_type": "code",
   "execution_count": 59,
   "id": "7927300f",
   "metadata": {},
   "outputs": [
    {
     "data": {
      "text/plain": [
       "['position_matrix_array', 'best_ray_array']"
      ]
     },
     "execution_count": 59,
     "metadata": {},
     "output_type": "execute_result"
    }
   ],
   "source": [
    "test_set_regression = np.load('all_test_regression.npz')\n",
    "test_set_regression.files"
   ]
  },
  {
   "cell_type": "code",
   "execution_count": 60,
   "id": "17910fd1",
   "metadata": {},
   "outputs": [],
   "source": [
    "train_reg_position_matrix = train_set_regression['position_matrix_array']\n",
    "train_reg_best_ray = train_set_regression['best_ray_array']\n",
    "\n",
    "test_reg_position_matrix = test_set_regression['position_matrix_array']\n",
    "test_reg_best_ray = test_set_regression['best_ray_array']"
   ]
  },
  {
   "cell_type": "markdown",
   "id": "59529053",
   "metadata": {},
   "source": [
    "Since the Position Matrix Array is the same for both regression and classification  \n",
    "We will only discuss the best ray array"
   ]
  },
  {
   "cell_type": "markdown",
   "id": "e5707f97",
   "metadata": {},
   "source": [
    "The values are angles:\n",
    "1. Departure: Azimuthal\n",
    "2. Departure: Elevation\n",
    "3. Arrival: Azimuthal\n",
    "4. Arrival Elevation"
   ]
  },
  {
   "cell_type": "code",
   "execution_count": 69,
   "id": "9b80b2e2",
   "metadata": {},
   "outputs": [
    {
     "name": "stdout",
     "output_type": "stream",
     "text": [
      "(27900, 4)\n"
     ]
    },
    {
     "data": {
      "text/plain": [
       "array([ 89.8105,  84.5901,  90.1895, -95.4099], dtype=float32)"
      ]
     },
     "execution_count": 69,
     "metadata": {},
     "output_type": "execute_result"
    }
   ],
   "source": [
    "print(train_reg_best_ray.shape)\n",
    "train_reg_best_ray[5]"
   ]
  }
 ],
 "metadata": {
  "kernelspec": {
   "display_name": "Python 3 (ipykernel)",
   "language": "python",
   "name": "python3"
  },
  "language_info": {
   "codemirror_mode": {
    "name": "ipython",
    "version": 3
   },
   "file_extension": ".py",
   "mimetype": "text/x-python",
   "name": "python",
   "nbconvert_exporter": "python",
   "pygments_lexer": "ipython3",
   "version": "3.10.2"
  }
 },
 "nbformat": 4,
 "nbformat_minor": 5
}
